{
 "cells": [
  {
   "cell_type": "markdown",
   "id": "29115774",
   "metadata": {
    "tags": [
     "test_autograd1"
    ]
   },
   "source": [
    "## This is a simple notebook that should be stored on a public git repo. It uses some line magic to dump answer out to a json blob that an xblock may access remotely.\n",
    "\n",
    "\n",
    "\n",
    "----\n",
    "\n",
    "## What does 1+1 equal? \n",
    "\n",
    "## Please store your answer in a variable called q1"
   ]
  },
  {
   "cell_type": "code",
   "execution_count": 2,
   "id": "c6a5201b",
   "metadata": {},
   "outputs": [],
   "source": [
    "x = 1\n",
    "y = 1\n",
    "\n",
    "q1 = x + y\n"
   ]
  },
  {
   "cell_type": "markdown",
   "id": "0413a8f5",
   "metadata": {},
   "source": [
    "----\n",
    "## What does 2+2 equal? \n",
    "\n",
    "## Please store your answer in a variable called q2\n",
    "\n"
   ]
  },
  {
   "cell_type": "code",
   "execution_count": 3,
   "id": "4f3858ca",
   "metadata": {},
   "outputs": [
    {
     "data": {
      "text/plain": [
       "4"
      ]
     },
     "execution_count": 3,
     "metadata": {},
     "output_type": "execute_result"
    }
   ],
   "source": [
    "q2 = q1 + q1\n",
    "q2"
   ]
  },
  {
   "cell_type": "markdown",
   "id": "29a45d0f",
   "metadata": {
    "deletable": false,
    "editable": false
   },
   "source": [
    "---- \n",
    "\n",
    "<br>\n",
    "<br>\n",
    "\n",
    "\n",
    "\n",
    "\n",
    "\n",
    "\n",
    "\n",
    "# When you have finished the lab please run the following cell!"
   ]
  },
  {
   "cell_type": "code",
   "execution_count": 3,
   "id": "f0c97f58",
   "metadata": {
    "deletable": false
   },
   "outputs": [
    {
     "name": "stdout",
     "output_type": "stream",
     "text": [
      "Error: name 'q1' is not defined, please check that it is defined\n",
      "Error: name 'q2' is not defined, please check that it is defined\n",
      "{\"q1\": 2, \"q2\": 4}\n"
     ]
    }
   ],
   "source": [
    "# Please run this cell when you have completed the lab, otherwiser the grader will not work correctly.\n",
    "\n",
    "%set_notebook_name test_autograde1\n",
    "%answer q1\n",
    "%answer q2\n",
    "%show_answers"
   ]
  },
  {
   "cell_type": "code",
   "execution_count": 2,
   "id": "7ea3a6c9",
   "metadata": {},
   "outputs": [
    {
     "ename": "NameError",
     "evalue": "name 'script_frame' is not defined",
     "output_type": "error",
     "traceback": [
      "\u001b[0;31m---------------------------------------------------------------------------\u001b[0m",
      "\u001b[0;31mNameError\u001b[0m                                 Traceback (most recent call last)",
      "\u001b[0;32m/tmp/ipykernel_25685/354395151.py\u001b[0m in \u001b[0;36m<module>\u001b[0;34m\u001b[0m\n\u001b[0;32m----> 1\u001b[0;31m \u001b[0mscript_frame\u001b[0m\u001b[0;34m\u001b[0m\u001b[0;34m\u001b[0m\u001b[0m\n\u001b[0m",
      "\u001b[0;31mNameError\u001b[0m: name 'script_frame' is not defined"
     ]
    }
   ],
   "source": []
  },
  {
   "cell_type": "code",
   "execution_count": 4,
   "id": "9b370e1e",
   "metadata": {},
   "outputs": [
    {
     "ename": "AttributeError",
     "evalue": "module 'os' has no attribute 'subprocess'",
     "output_type": "error",
     "traceback": [
      "\u001b[0;31m---------------------------------------------------------------------------\u001b[0m",
      "\u001b[0;31mAttributeError\u001b[0m                            Traceback (most recent call last)",
      "\u001b[0;32m/tmp/ipykernel_25685/232231128.py\u001b[0m in \u001b[0;36m<module>\u001b[0;34m\u001b[0m\n\u001b[1;32m      1\u001b[0m \u001b[0;32mimport\u001b[0m \u001b[0mos\u001b[0m\u001b[0;34m\u001b[0m\u001b[0;34m\u001b[0m\u001b[0m\n\u001b[0;32m----> 2\u001b[0;31m \u001b[0mos\u001b[0m\u001b[0;34m.\u001b[0m\u001b[0msubprocess\u001b[0m\u001b[0;34m\u001b[0m\u001b[0;34m\u001b[0m\u001b[0m\n\u001b[0m",
      "\u001b[0;31mAttributeError\u001b[0m: module 'os' has no attribute 'subprocess'"
     ]
    }
   ],
   "source": [
    "import os\n",
    "os.subprocess\n"
   ]
  },
  {
   "cell_type": "code",
   "execution_count": null,
   "id": "2a5c1264",
   "metadata": {},
   "outputs": [],
   "source": []
  }
 ],
 "metadata": {
  "celltoolbar": "Edit Metadata",
  "kernelspec": {
   "display_name": "Python 3 (ipykernel)",
   "language": "python",
   "name": "python3"
  },
  "labname": "test_autograde1",
  "language_info": {
   "codemirror_mode": {
    "name": "ipython",
    "version": 3
   },
   "file_extension": ".py",
   "mimetype": "text/x-python",
   "name": "python",
   "nbconvert_exporter": "python",
   "pygments_lexer": "ipython3",
   "version": "3.9.7"
  }
 },
 "nbformat": 4,
 "nbformat_minor": 5
}

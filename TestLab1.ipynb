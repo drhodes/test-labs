{
 "cells": [
  {
   "cell_type": "markdown",
   "id": "29115774",
   "metadata": {
    "tags": [
     "test_autograd1"
    ]
   },
   "source": [
    "## This is a simple notebook that should be stored on a public git repo. It uses some line magic to dump answer out to a json blob that an xblock may access remotely.\n",
    "\n",
    "\n",
    "\n",
    "----\n",
    "\n",
    "## What does 1+1 equal? \n",
    "\n",
    "## Please store your answer in a variable called q1"
   ]
  },
  {
   "cell_type": "code",
   "execution_count": 1,
   "id": "c6a5201b",
   "metadata": {},
   "outputs": [],
   "source": [
    "x = 1\n",
    "y = 1\n",
    "\n",
    "q1 = x + y\n"
   ]
  },
  {
   "cell_type": "markdown",
   "id": "0413a8f5",
   "metadata": {},
   "source": [
    "----\n",
    "## What does 2+2 equal? \n",
    "\n",
    "## Please store your answer in a variable called q2\n",
    "\n"
   ]
  },
  {
   "cell_type": "code",
   "execution_count": 2,
   "id": "4f3858ca",
   "metadata": {},
   "outputs": [
    {
     "data": {
      "text/plain": [
       "4"
      ]
     },
     "execution_count": 2,
     "metadata": {},
     "output_type": "execute_result"
    }
   ],
   "source": [
    "q2 = q1 + q1\n",
    "q2"
   ]
  },
  {
   "cell_type": "code",
   "execution_count": null,
   "id": "f23b1ab7",
   "metadata": {},
   "outputs": [],
   "source": []
  }
 ],
 "metadata": {
  "kernelspec": {
   "display_name": "Python 3 (ipykernel)",
   "language": "python",
   "name": "python3"
  },
  "labname": "test_autograde1",
  "language_info": {
   "codemirror_mode": {
    "name": "ipython",
    "version": 3
   },
   "file_extension": ".py",
   "mimetype": "text/x-python",
   "name": "python",
   "nbconvert_exporter": "python",
   "pygments_lexer": "ipython3",
   "version": "3.9.7"
  }
 },
 "nbformat": 4,
 "nbformat_minor": 5
}
